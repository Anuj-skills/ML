{
  "nbformat": 4,
  "nbformat_minor": 0,
  "metadata": {
    "colab": {
      "provenance": []
    },
    "kernelspec": {
      "name": "python3",
      "display_name": "Python 3"
    },
    "language_info": {
      "name": "python"
    }
  },
  "cells": [
    {
      "cell_type": "markdown",
      "source": [
        "1. What is a parameter?\n",
        "Ans: A parameter in Machine Learning is a variable that the model learns from training data.\n",
        "foe eg- In linear regression, parameters are the weights (coefficients) and bias (intercept).\n",
        "\n",
        "2. What is correlation? What does negative correlation mean?\n",
        "Ans: Correlation measures the statistical relationship between two variables,\n",
        "i.e., how they are related to each other.\n",
        "A negative correlation means that as one variable increases, the other decreases.\n",
        "\n",
        "3. Define Machine Learning. What are the main components in Machine Learning?\n",
        "Ans: Machine learning is a subfield of computer science that gives computers the ability to learn without explicitly proragmmed.\n",
        "\n",
        "4. How does loss value help in determining whether the model is good or not?\n",
        "Ans: Loss value is a parameter for measure the model performance i.e. if it is high the model is not effective, for model to be good, the loss value should be low.\n",
        "\n",
        "5. What are continuous and categorical variables?\n",
        "Ans: Continuous variables are the variables which stores numeric data whereas the categorical variables stores String datataype.\n",
        "\n",
        "6. How do we handle categorical variables in Machine Learning? What are the common techniques?\n",
        "Ans: To handle the categorical data replace it with the mode and convert it into numeric after replacemnt if possible.\n",
        "\n",
        "7. What do you mean by training and testing a dataset?\n",
        "Ans: Training refers to trained the dataset i.e. analysing the patterns of the data whereas Testing refers to check the corretness of the dataset.\n",
        "\n",
        "8. What is sklearn.preprocessing?\n",
        "Ans: sklearn.preprocessing is a Library used to perform some pre-tasks or pre-requistic task before the training of the model.\n",
        "\n",
        "9. What is a Test set?\n",
        "Ans: It is a piece of data used to check the correctness of the model after training.\n",
        "\n",
        "10. How do we split data for model fitting (training and testing) in Python? How do you approach a Machine Learning problem?\n",
        "Ans: We split the data into two sets i.e. Training and Testing\n",
        "Training data is used to trained the model while Testing data is used to test the trained model.\n",
        "The steps for approach a machine learning problem are\n",
        "Understand the problem, Collect and inspect data, Exploratory Data Analysis (EDA), Data Preprocessing, Feature Engineering, Split data, Model selection, Training, Evaluation, Optimization, Deployment and Monitoring.\n",
        "\n",
        "11. Why do we have to perform EDA before fitting a model to the data?\n",
        "Ans: Before model fitting EDA is used to analyze the data, visualize the data or to perform the prerequistic for the model fitting.\n",
        "\n",
        "12. What is correlation?\n",
        "Ans: Correlation measures the statistical relationship between two variables,\n",
        "i.e., how they are related to each other.\n",
        "\n",
        "13. What does negative correlation mean?\n",
        "Ans: A negative correlation means that as one variable increases, the other decreases.\n",
        "\n",
        "14. How can you find correlation between variables in Python?\n",
        "Ans: Using corr method of pandas module.\n",
        "\n",
        "15. What is causation? Explain difference between correlation and causation with an example.\n",
        "Ans: Causation is a phenomenon in which one variable directly affects another while Correlation defines the realtion between two variables.\n",
        "for example:\n",
        "Ice cream sales and drowning deaths are correlated (both increase in summer).\n",
        "But temperature causes both, not ice cream sales is no causation.\n",
        "\n",
        "16. What is an Optimizer? What are different types of optimizers? Explain each with an example.\n",
        "Ams: Optimizer is an algorithm used to adjust model parameters to minimize loss.\n",
        "Types of optimizers are:\n",
        "Gradient Descent\n",
        ",Stochastic Gradient Descent (SGD)\n",
        ",Mini-batch Gradient Descent, Momentum, RMSProp and Adam (Adaptive Moment Estimation).\n",
        "\n",
        "17. What is sklearn.linear_model ?\n",
        "Ans: A module in Scikit-learn containing linear models such as:\n",
        "LinearRegression, LogisticRegression, Ridge, Lasso and SGDClassifier.\n",
        "\n",
        "18. What does model.fit() do? What arguments must be given?\n",
        "Ans: model.fit() trains the ML model using training data.\n",
        "Required arguments:\n",
        "X_train → features\n",
        "y_train → target variable\n",
        "\n",
        "19. What does model.predict() do? What arguments must be given?\n",
        "Ans: model.predict() generates predictions from the trained model.it takes X_test as arguement.\n",
        "\n",
        "20. What are continuous and categorical variables?\n",
        "Ans: Continuous variables are the variables which stores numeric data whereas the categorical variables stores String datataype.\n",
        "\n",
        "21. What is feature scaling? How does it help in Machine Learning?\n",
        "Ans: Feature scaling is used to transfor features into a similar range.\n",
        "\n",
        "22. How do we perform scaling in Python?\n",
        "Ans:\n",
        "\n"
      ],
      "metadata": {
        "id": "lfjwn-SfUIpe"
      }
    },
    {
      "cell_type": "code",
      "source": [
        "#Ans:\n",
        "from sklearn.preprocessing import StandardScaler, MinMaxScaler\n",
        "\n",
        "scaler = StandardScaler()\n",
        "X_scaled = scaler.fit_transform(X)\n",
        "\n",
        "scaler = MinMaxScaler()\n",
        "X_normalized = scaler.fit_transform(X)\n"
      ],
      "metadata": {
        "id": "4bumPNz2eGTb"
      },
      "execution_count": null,
      "outputs": []
    },
    {
      "cell_type": "markdown",
      "source": [
        "23. What is sklearn.preprocessing?\n",
        "Ans: sklearn.preprocessing is a Library used to perform some pre-tasks or pre-requistic task before the training of the model.\n",
        "\n",
        "24. How do we split data for model fitting (training and testing) in Python\n",
        "Ans: We split the data into two sets i.e. Training and Testing\n",
        "Training data is used to trained the model while Testing data is used to test the trained model.\n",
        "\n",
        "25. Explain data encoding?\n",
        "Ans: data encoding is a technique to convert categorical values into numerical values for ML models."
      ],
      "metadata": {
        "id": "zpeXqG5aeIgs"
      }
    },
    {
      "cell_type": "code",
      "execution_count": null,
      "metadata": {
        "id": "gD9AAtTHT02U"
      },
      "outputs": [],
      "source": []
    }
  ]
}